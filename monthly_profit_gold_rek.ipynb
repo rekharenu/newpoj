{
 "cells": [
  {
   "cell_type": "code",
   "execution_count": null,
   "id": "ae749f36-ae8d-4932-a410-f616d8e35527",
   "metadata": {},
   "outputs": [],
   "source": [
    "Stock Profit  Vs Gold \n",
    "Monthly profits(y axis)Vs Monthly Gold Price Change Profit(X axis) by scatter plot using Alphavantage API"
   ]
  },
  {
   "cell_type": "code",
   "execution_count": 1,
   "id": "47af8222-f30e-48f8-9594-919e70a12cb5",
   "metadata": {},
   "outputs": [
    {
     "ename": "SyntaxError",
     "evalue": "invalid syntax (api_keys.py, line 5)",
     "output_type": "error",
     "traceback": [
      "Traceback \u001b[1;36m(most recent call last)\u001b[0m:\n",
      "\u001b[0m  File \u001b[0;32m~\\anaconda3\\Lib\\site-packages\\IPython\\core\\interactiveshell.py:3553\u001b[0m in \u001b[0;35mrun_code\u001b[0m\n    exec(code_obj, self.user_global_ns, self.user_ns)\u001b[0m\n",
      "\u001b[1;36m  Cell \u001b[1;32mIn[1], line 12\u001b[1;36m\n\u001b[1;33m    from api_keys import alpha_vantage_api_key, bls_api_key, fred_api_key\u001b[1;36m\n",
      "\u001b[1;36m  File \u001b[1;32m~\\Documents\\projects_1\\project1_group1\\StockAnalysis\\api_keys.py:5\u001b[1;36m\u001b[0m\n\u001b[1;33m    Please click the link below to validate your key:\u001b[0m\n\u001b[1;37m           ^\u001b[0m\n\u001b[1;31mSyntaxError\u001b[0m\u001b[1;31m:\u001b[0m invalid syntax\n"
     ]
    }
   ],
   "source": [
    "# Dependencies and Setup\n",
    "import matplotlib.pyplot as plt\n",
    "import pandas as pd\n",
    "import numpy as np\n",
    "import requests\n",
    "import time\n",
    "import calendar\n",
    "from scipy.stats import linregress\n",
    "from pprint import pprint\n",
    "\n",
    "# Import the API key\n",
    "from api_keys import alpha_vantage_api_key, bls_api_key, fred_api_key\n",
    "#from api_keys import alpha_vantage_api_key, bls_api_key, fred_api_key\n",
    "\n",
    "\n",
    "# https://cran.r-project.org/web/packages/eFRED/vignettes/FetchingDataFromFRED.html\n",
    "# https://pypi.org/project/fredapi/\n",
    "#from fredapi import Fred"
   ]
  },
  {
   "cell_type": "code",
   "execution_count": 3,
   "id": "dbf21f23-9cc1-4d9d-a25d-e614cc4addda",
   "metadata": {},
   "outputs": [
    {
     "data": {
      "text/plain": [
       "'Hi'"
      ]
     },
     "execution_count": 3,
     "metadata": {},
     "output_type": "execute_result"
    }
   ],
   "source": [
    "camilo"
   ]
  },
  {
   "cell_type": "code",
   "execution_count": 2,
   "id": "2b8c4108-efeb-4e56-bc14-202aacf092c3",
   "metadata": {},
   "outputs": [
    {
     "ename": "ModuleNotFoundError",
     "evalue": "No module named 'yfinance'",
     "output_type": "error",
     "traceback": [
      "\u001b[1;31m---------------------------------------------------------------------------\u001b[0m",
      "\u001b[1;31mModuleNotFoundError\u001b[0m                       Traceback (most recent call last)",
      "Cell \u001b[1;32mIn[2], line 3\u001b[0m\n\u001b[0;32m      1\u001b[0m \u001b[38;5;66;03m# Create a dataFrame for Nasdaq Monthly profit\u001b[39;00m\n\u001b[1;32m----> 3\u001b[0m \u001b[38;5;28;01mimport\u001b[39;00m \u001b[38;5;21;01myfinance\u001b[39;00m \u001b[38;5;28;01mas\u001b[39;00m \u001b[38;5;21;01myf\u001b[39;00m\n\u001b[0;32m      4\u001b[0m \u001b[38;5;28;01mimport\u001b[39;00m \u001b[38;5;21;01mpandas\u001b[39;00m \u001b[38;5;28;01mas\u001b[39;00m \u001b[38;5;21;01mpd\u001b[39;00m\n\u001b[0;32m      5\u001b[0m \u001b[38;5;28;01mimport\u001b[39;00m \u001b[38;5;21;01mcalendar\u001b[39;00m\n",
      "\u001b[1;31mModuleNotFoundError\u001b[0m: No module named 'yfinance'"
     ]
    }
   ],
   "source": [
    "# Monthly Stock Profits dataFrame - 1\n",
    "# Constants\n",
    "stock_symbol = 'QQQ'\n",
    "start_date = '2010-01-01'\n",
    "end_date = '2019-12-31'\n",
    "URL = f'https://www.alphavantage.co/query?function=TIME_SERIES_DAILY&symbol={stock_symbol}&apikey={alpha_vantage_api_key}&outputsize=full'\n",
    "\n",
    "\n",
    "# Fetch stock data from alphavantage\n",
    "response = requests.get(URL).json()\n",
    "\n",
    "# Define an empty list to fetch the stock data\n",
    "stock_data = []\n",
    "\n",
    "for date, values in response['Time Series (Daily)'].items():\n",
    "    stock_data.append({\n",
    "        \"Date\": date,\n",
    "        \"Open\": values['1. open'],\n",
    "        \"High\": values['2. high'],\n",
    "        \"Low\": values['3. low'],\n",
    "        \"Close\": values['4. close'],\n",
    "        \"Volume\": values['5. volume']\n",
    "    })\n",
    "\n",
    "# Conver List to dataFrame\n",
    "stock_info_df = pd.DataFrame(stock_data)\n",
    "stock_info_df = stock_info_df[(stock_info_df['Date'] >= start_date) & (stock_info_df['Date'] <= end_date)]\n",
    "\n",
    "stock_info_df.reset_index()\n",
    "stock_info_df['Date'] = pd.to_datetime(stock_info_df['Date'])\n",
    "stock_info_df['Open'] = stock_info_df['Open'].astype(float)\n",
    "stock_info_df['Close'] = stock_info_df['Close'].astype(float)\n",
    "\n",
    "stock_info_df"
   ]
  },
  {
   "cell_type": "code",
   "execution_count": null,
   "id": "1407883c-127e-4621-9f46-c0fe5175b055",
   "metadata": {},
   "outputs": [],
   "source": [
    "# Monthly Stock Profits dataFrame - 2\n",
    "# Date, Month Column creation by using Date\n",
    "stock_info_df['Year'] = stock_info_df['Date'].dt.year\n",
    "stock_info_df['Month_Number'] = stock_info_df['Date'].dt.month\n",
    "\n",
    "# Open price for each Year, Month & Close price for each Year, Month\n",
    "monthly_data = stock_info_df.groupby(['Year', 'Month_Number'])\n",
    "first_open = monthly_data['Open'].first().reset_index()\n",
    "last_close = monthly_data['Close'].last().reset_index()\n",
    "\n",
    "stock_info_df"
   ]
  },
  {
   "cell_type": "code",
   "execution_count": null,
   "id": "8e79c197-9b6a-4216-a2f5-a9c4d4220b0c",
   "metadata": {},
   "outputs": [],
   "source": [
    "# Monthly Stock Profits dataFrame - 3 (final)\n",
    "\n",
    "monthly_profit = last_close['Close'] - first_open['Open']\n",
    "\n",
    "# dataFrame creation\n",
    "monthly_profit_df = pd.DataFrame({\n",
    "                                    'Year': first_open['Year'],\n",
    "                                    'Month_Number': first_open['Month_Number'],\n",
    "                                    'Monthly_Profit': monthly_profit\n",
    "                                })\n",
    "\n",
    "# Generate month numbers (1-12)\n",
    "month_numbers = list(range(1, 13))\n",
    "\n",
    "# Use list comprehension to map month numbers to month names\n",
    "month_names = [calendar.month_name[month] for month in month_numbers]\n",
    "\n",
    "# Create the DataFrame\n",
    "month_df = pd.DataFrame({\n",
    "                            'Month_Number': month_numbers,\n",
    "                            'Month': month_names\n",
    "                        })\n",
    "\n",
    "# Merge the DataFrames on 'Month' from monthly_profit_df and 'Month Number' from month_df\n",
    "monthly_profit_merge_df = pd.merge(monthly_profit_df, month_df, left_on='Month_Number', right_on='Month_Number', how='left')\n",
    "\n",
    "monthly_profit_final_df = monthly_profit_merge_df[[\"Year\", \"Month\", \"Monthly_Profit\"]]\n",
    "monthly_profit_final_df[\"Year\"] = monthly_profit_final_df[\"Year\"].astype('str')\n",
    "\n",
    "monthly_profit_final_df"
   ]
  },
  {
   "cell_type": "code",
   "execution_count": null,
   "id": "2d5825a2-1d65-4969-b20b-c95aca8e4b05",
   "metadata": {},
   "outputs": [],
   "source": [
    "#create # Create a dataFrame for Monthly gold Rate\n",
    "# Monthly Stock Profits dataFrame - 1\n",
    "# Constants\n",
    "gold_symbol = 'QQQ'\n",
    "start_date = '2010-01-01'\n",
    "end_date = '2019-12-31'\n",
    "URL = f'https://www.alphavantage.co/query?function=DIGITAL_CURRENCY_WEEKLY&symbol=BTC&market={gold_symbol}CNY&apikey={alpha_vantage_api_key}&outputsize=full'\n",
    "\n",
    "# Fetch stock data from alphavantage                                                                                                                      \n",
    "response = requests.get(URL).json()\n",
    "\n",
    "# Define an empty list to fetch the stock data\n",
    "gold_data = []\n",
    "\n",
    "for date, values in response['Time Series (Daily)'].items():\n",
    "    gold_data.append({\n",
    "        \"Date\": date,\n",
    "        \"Open\": values['1. open'],\n",
    "        \"High\": values['2. high'],\n",
    "        \"Low\": values['3. low'],\n",
    "        \"Close\": values['4. close'],\n",
    "        \"Volume\": values['5. volume']\n",
    "    })\n",
    "\n",
    "# Conver List to dataFrame\n",
    "gold_info_df = pd.DataFrame(gold_data)\n",
    "stock_info_df = stock_info_df[(stock_info_df['Date'] >= start_date) & (stock_info_df['Date'] <= end_date)]\n",
    "\n",
    "gold_info_df.reset_index()\n",
    "gold_info_df['Date'] = pd.to_datetime(gold_info_df['Date'])\n",
    "gold_info_df['Open'] = gold_info_df['Open'].astype(float)\n",
    "gold_info_df['Close'] = gold_info_df['Close'].astype(float)\n",
    "\n",
    "gold_info_df\n"
   ]
  },
  {
   "cell_type": "code",
   "execution_count": 4,
   "id": "313cd9b2-2964-4f96-b5e6-a2d051e8d2d7",
   "metadata": {},
   "outputs": [
    {
     "ename": "NameError",
     "evalue": "name 'gold_info_df' is not defined",
     "output_type": "error",
     "traceback": [
      "\u001b[1;31m---------------------------------------------------------------------------\u001b[0m",
      "\u001b[1;31mNameError\u001b[0m                                 Traceback (most recent call last)",
      "Cell \u001b[1;32mIn[4], line 1\u001b[0m\n\u001b[1;32m----> 1\u001b[0m gold_info_df[\u001b[38;5;124m'\u001b[39m\u001b[38;5;124mYear\u001b[39m\u001b[38;5;124m'\u001b[39m] \u001b[38;5;241m=\u001b[39m gold_info_df[\u001b[38;5;124m'\u001b[39m\u001b[38;5;124mDate\u001b[39m\u001b[38;5;124m'\u001b[39m]\u001b[38;5;241m.\u001b[39mdt\u001b[38;5;241m.\u001b[39myear\n\u001b[0;32m      2\u001b[0m gold_info_df[\u001b[38;5;124m'\u001b[39m\u001b[38;5;124mMonth_Number\u001b[39m\u001b[38;5;124m'\u001b[39m] \u001b[38;5;241m=\u001b[39m gold_info_df[\u001b[38;5;124m'\u001b[39m\u001b[38;5;124mDate\u001b[39m\u001b[38;5;124m'\u001b[39m]\u001b[38;5;241m.\u001b[39mdt\u001b[38;5;241m.\u001b[39mmonth\n\u001b[0;32m      4\u001b[0m \u001b[38;5;66;03m# Open price for each Year, Month & Close price for each Year, Month\u001b[39;00m\n",
      "\u001b[1;31mNameError\u001b[0m: name 'gold_info_df' is not defined"
     ]
    }
   ],
   "source": [
    "gold_info_df['Year'] = gold_info_df['Date'].dt.year\n",
    "gold_info_df['Month_Number'] = gold_info_df['Date'].dt.month\n",
    "\n",
    "# Open price for each Year, Month & Close price for each Year, Month\n",
    "monthly_data = gold_info_df.groupby(['Year', 'Month_Number'])\n",
    "first_open = monthly_data['Open'].first().reset_index()\n",
    "last_close = monthly_data['Close'].last().reset_index()\n",
    "\n",
    "gold_info_df"
   ]
  },
  {
   "cell_type": "code",
   "execution_count": null,
   "id": "ff0783f4-cb73-4084-bbe3-60d1a86cf70b",
   "metadata": {},
   "outputs": [],
   "source": [
    "#merge 2 dataframe(monthly profit+ monthly gold price)\n",
    "monthlyprofit_goldrate_df = pd.merge(monthly_profit_final_df, gold_data_df, on= [\"Year\",\"Month\"], how=\"inner\")\n",
    "monthlyprofit_goldrate_df\n"
   ]
  },
  {
   "cell_type": "code",
   "execution_count": 3,
   "id": "47af196a-b580-44bf-bc40-d94f99b61333",
   "metadata": {},
   "outputs": [
    {
     "ename": "SyntaxError",
     "evalue": "incomplete input (3625611644.py, line 1)",
     "output_type": "error",
     "traceback": [
      "\u001b[1;36m  Cell \u001b[1;32mIn[3], line 1\u001b[1;36m\u001b[0m\n\u001b[1;33m    monthlyprofit_goldrate_df.plot(kind='scatter',x='Rate',y='Monthly_Profit'\u001b[0m\n\u001b[1;37m                                                                             ^\u001b[0m\n\u001b[1;31mSyntaxError\u001b[0m\u001b[1;31m:\u001b[0m incomplete input\n"
     ]
    }
   ],
   "source": [
    "monthlyprofit_goldrate_df.plot(kind='scatter',x='Rate',y='Monthly_Profit'"
   ]
  },
  {
   "cell_type": "code",
   "execution_count": null,
   "id": "d9bdd9f3-76e8-467e-9c98-84500ba33f1f",
   "metadata": {},
   "outputs": [],
   "source": []
  }
 ],
 "metadata": {
  "kernelspec": {
   "display_name": "Python 3 (ipykernel)",
   "language": "python",
   "name": "python3"
  },
  "language_info": {
   "codemirror_mode": {
    "name": "ipython",
    "version": 3
   },
   "file_extension": ".py",
   "mimetype": "text/x-python",
   "name": "python",
   "nbconvert_exporter": "python",
   "pygments_lexer": "ipython3",
   "version": "3.11.7"
  }
 },
 "nbformat": 4,
 "nbformat_minor": 5
}

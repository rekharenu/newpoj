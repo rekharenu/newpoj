{
 "cells": [
  {
   "cell_type": "code",
   "execution_count": 1,
   "id": "4976f222-9ec0-4c3a-91e7-e6f5ce4fc531",
   "metadata": {},
   "outputs": [],
   "source": [
    "  #Stock Profit  Vs  us president year\n",
    "\n",
    "#Monthly profits average(10 years) for each month (correlation Between price and month) by Bar chart "
   ]
  },
  {
   "cell_type": "code",
   "execution_count": 2,
   "id": "0ef6eba7-94ff-4086-ac1c-71b46f4ade59",
   "metadata": {},
   "outputs": [
    {
     "ename": "ImportError",
     "evalue": "cannot import name 'alpha_vantage_api_key' from 'api_keys' (C:\\Users\\rekha\\Documents\\projects_1\\project1_group1\\stockAnalysis\\api_keys.py)",
     "output_type": "error",
     "traceback": [
      "\u001b[1;31m---------------------------------------------------------------------------\u001b[0m",
      "\u001b[1;31mImportError\u001b[0m                               Traceback (most recent call last)",
      "Cell \u001b[1;32mIn[2], line 12\u001b[0m\n\u001b[0;32m      9\u001b[0m \u001b[38;5;28;01mfrom\u001b[39;00m \u001b[38;5;21;01mpprint\u001b[39;00m \u001b[38;5;28;01mimport\u001b[39;00m pprint\n\u001b[0;32m     11\u001b[0m \u001b[38;5;66;03m# Import the API key\u001b[39;00m\n\u001b[1;32m---> 12\u001b[0m \u001b[38;5;28;01mfrom\u001b[39;00m \u001b[38;5;21;01mapi_keys\u001b[39;00m \u001b[38;5;28;01mimport\u001b[39;00m alpha_vantage_api_key, bls_api_key, fred_api_key\n\u001b[0;32m     13\u001b[0m \u001b[38;5;28;01mfrom\u001b[39;00m \u001b[38;5;21;01mfredapi\u001b[39;00m \u001b[38;5;28;01mimport\u001b[39;00m Fred\n",
      "\u001b[1;31mImportError\u001b[0m: cannot import name 'alpha_vantage_api_key' from 'api_keys' (C:\\Users\\rekha\\Documents\\projects_1\\project1_group1\\stockAnalysis\\api_keys.py)"
     ]
    }
   ],
   "source": [
    "# Dependencies and Setup\n",
    "import matplotlib.pyplot as plt\n",
    "import pandas as pd\n",
    "import numpy as np\n",
    "import requests\n",
    "import time\n",
    "import calendar\n",
    "from scipy.stats import linregress\n",
    "from pprint import pprint\n",
    "\n",
    "# Import the API key\n",
    "from api_keys import alpha_vantage_api_key, bls_api_key, fred_api_key\n",
    "from fredapi import Fred"
   ]
  },
  {
   "cell_type": "code",
   "execution_count": null,
   "id": "da3debb3-420a-4490-a463-887036e2ed75",
   "metadata": {},
   "outputs": [],
   "source": [
    "# Do NOT EXECUTE, AS API has rate-Limiting, we will use yfinance, EXECUTE THE NEXT CELL\n",
    "# Constants\n",
    "stock_symbol = 'QQQ'\n",
    "# START_DATE = '2013-01-01'\n",
    "# END_DATE = '2023-01-01'\n",
    "URL = f'https://www.alphavantage.co/query?function=TIME_SERIES_DAILY&symbol={stock_symbol}&apikey={alpha_vantage_api_key}'\n",
    "\n",
    "\n",
    "# Fetch stock data from alphavantage\n",
    "response = requests.get(URL).json()\n",
    "\n",
    "# Define an empty list to fetch the stock data\n",
    "stock_data = []\n",
    "\n",
    "for date, values in response['Time Series (Daily)'].items():\n",
    "    stock_data.append({\n",
    "        \"Date\": date,\n",
    "        \"Open\": values['1. open'],\n",
    "        \"High\": values['2. high'],\n",
    "        \"Low\": values['3. low'],\n",
    "        \"Close\": values['4. close'],\n",
    "        \"Volume\": values['5. volume']\n",
    "    })\n",
    "\n",
    "# Conver List to dataFrame\n",
    "stock_info_df = pd.DataFrame(stock_data)\n",
    "stock_info_df = stock_info_df[(stock_info_df['Date'] >= start_date) & (stock_info_df['Date'] <= end_date)]\n",
    "\n",
    "stock_info_df.reset_index()\n",
    "stock_info_df['Date'] = pd.to_datetime(stock_info_df['Date'])\n",
    "stock_info_df['Open'] = stock_info_df['Open'].astype(float)\n",
    "stock_info_df['Close'] = stock_info_df['Close'].astype(float)\n",
    "\n",
    "stock_info_df\n",
    "\n"
   ]
  },
  {
   "cell_type": "code",
   "execution_count": null,
   "id": "8eddbff7-e961-465e-b774-14c186c89169",
   "metadata": {},
   "outputs": [],
   "source": [
    "# Monthly Stock Closing dataFrame - 2\n",
    "# Date, Month Column creation by using Date\n",
    "stock_info_df['Year'] = stock_info_df['Date'].dt.year\n",
    "stock_info_df['Month_Number'] = stock_info_df['Date'].dt.month\n",
    "\n",
    "# Open price for each Year, Month & Close price for each Year, Month\n",
    "monthly_data = stock_info_df.groupby(['Year', 'Month_Number'])\n",
    "last_close = monthly_data['Close'].last().reset_index()\n",
    "\n",
    "stock_info_df"
   ]
  },
  {
   "cell_type": "code",
   "execution_count": null,
   "id": "7c0ad035-9035-4bfb-9c86-05513bb07284",
   "metadata": {},
   "outputs": [],
   "source": [
    "# dataFrame creation\n",
    "monthly_close_df = pd.DataFrame({\n",
    "                                    'Year': last_close['Year'],\n",
    "                                    'Month_Number': last_close['Month_Number'],\n",
    "                                    'Monthly_Close': last_close['Close']\n",
    "                                })\n",
    "\n",
    "# Generate month numbers (1-12)\n",
    "month_numbers = list(range(1, 13))\n",
    "\n",
    "# Use list comprehension to map month numbers to month names\n",
    "month_names = [calendar.month_name[month] for month in month_numbers]\n",
    "\n",
    "# Create the DataFrame\n",
    "month_df = pd.DataFrame({\n",
    "                            'Month_Number': month_numbers,\n",
    "                            'Month': month_names\n",
    "                        })\n",
    "\n",
    "# Merge the DataFrames on 'Month' from monthly_profit_df and 'Month Number' from month_df\n",
    "monthly_close_merge_df = pd.merge(monthly_close_df, month_df, left_on='Month_Number', right_on='Month_Number', how='left')\n",
    "\n",
    "monthly_close_final_df = monthly_close_merge_df[[\"Year\", \"Month\", \"Monthly_Close\"]]\n",
    "monthly_close_final_df[\"Year\"] = monthly_close_final_df[\"Year\"].astype('str')\n",
    "\n",
    "monthly_close_final_df"
   ]
  },
  {
   "cell_type": "code",
   "execution_count": null,
   "id": "5c67ef84-0646-448f-ade6-ab143ca22606",
   "metadata": {},
   "outputs": [],
   "source": []
  }
 ],
 "metadata": {
  "kernelspec": {
   "display_name": "Python 3 (ipykernel)",
   "language": "python",
   "name": "python3"
  },
  "language_info": {
   "codemirror_mode": {
    "name": "ipython",
    "version": 3
   },
   "file_extension": ".py",
   "mimetype": "text/x-python",
   "name": "python",
   "nbconvert_exporter": "python",
   "pygments_lexer": "ipython3",
   "version": "3.11.7"
  }
 },
 "nbformat": 4,
 "nbformat_minor": 5
}
